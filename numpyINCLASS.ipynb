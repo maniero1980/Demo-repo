{
  "nbformat": 4,
  "nbformat_minor": 0,
  "metadata": {
    "colab": {
      "provenance": [],
      "authorship_tag": "ABX9TyPK1WIrxkKhm3EtfNk9Ctsh",
      "include_colab_link": true
    },
    "kernelspec": {
      "name": "python3",
      "display_name": "Python 3"
    },
    "language_info": {
      "name": "python"
    }
  },
  "cells": [
    {
      "cell_type": "markdown",
      "metadata": {
        "id": "view-in-github",
        "colab_type": "text"
      },
      "source": [
        "<a href=\"https://colab.research.google.com/github/maniero1980/Demo-repo/blob/master/numpyINCLASS.ipynb\" target=\"_parent\"><img src=\"https://colab.research.google.com/assets/colab-badge.svg\" alt=\"Open In Colab\"/></a>"
      ]
    },
    {
      "cell_type": "code",
      "execution_count": 53,
      "metadata": {
        "id": "LdF9BfL8PgfO"
      },
      "outputs": [],
      "source": [
        "import numpy as np"
      ]
    },
    {
      "cell_type": "code",
      "source": [
        "number_list = [5,9,15,25,40]\n",
        "number_list"
      ],
      "metadata": {
        "colab": {
          "base_uri": "https://localhost:8080/"
        },
        "id": "oLl9NwjTQzAP",
        "outputId": "eef0f97e-cfe1-4f19-dd94-5e327d6274b1"
      },
      "execution_count": 54,
      "outputs": [
        {
          "output_type": "execute_result",
          "data": {
            "text/plain": [
              "[5, 9, 15, 25, 40]"
            ]
          },
          "metadata": {},
          "execution_count": 54
        }
      ]
    },
    {
      "cell_type": "code",
      "source": [
        "np.array(number_list)"
      ],
      "metadata": {
        "colab": {
          "base_uri": "https://localhost:8080/"
        },
        "id": "rLHQjqR-Q-Q2",
        "outputId": "e763a32e-2dcc-4abf-9c85-7fd324c04bf7"
      },
      "execution_count": 55,
      "outputs": [
        {
          "output_type": "execute_result",
          "data": {
            "text/plain": [
              "array([ 5,  9, 15, 25, 40])"
            ]
          },
          "metadata": {},
          "execution_count": 55
        }
      ]
    },
    {
      "cell_type": "code",
      "source": [
        "number_array = np.array(number_list)"
      ],
      "metadata": {
        "id": "0gqiTJRzREfp"
      },
      "execution_count": 56,
      "outputs": []
    },
    {
      "cell_type": "code",
      "source": [
        "number_array/3"
      ],
      "metadata": {
        "colab": {
          "base_uri": "https://localhost:8080/"
        },
        "id": "6dBsJcfKRfNx",
        "outputId": "71ad15e6-4f66-4b21-df86-3e0359d15544"
      },
      "execution_count": 57,
      "outputs": [
        {
          "output_type": "execute_result",
          "data": {
            "text/plain": [
              "array([ 1.66666667,  3.        ,  5.        ,  8.33333333, 13.33333333])"
            ]
          },
          "metadata": {},
          "execution_count": 57
        }
      ]
    },
    {
      "cell_type": "code",
      "source": [
        "number_array % 3"
      ],
      "metadata": {
        "colab": {
          "base_uri": "https://localhost:8080/"
        },
        "id": "taol2JBHRhvY",
        "outputId": "f0e0655f-b3d4-4ffa-a758-4c826e31ea65"
      },
      "execution_count": 58,
      "outputs": [
        {
          "output_type": "execute_result",
          "data": {
            "text/plain": [
              "array([2, 0, 0, 1, 1])"
            ]
          },
          "metadata": {},
          "execution_count": 58
        }
      ]
    },
    {
      "cell_type": "code",
      "source": [
        "new_list = []\n",
        "for x in number_list:\n",
        "  y = x/3\n",
        "  new_list.append(y)\n",
        "new_list"
      ],
      "metadata": {
        "colab": {
          "base_uri": "https://localhost:8080/"
        },
        "id": "mDicAhjfRlZQ",
        "outputId": "1172690a-2f19-4e9e-8f64-b3fb49a52aae"
      },
      "execution_count": 59,
      "outputs": [
        {
          "output_type": "execute_result",
          "data": {
            "text/plain": [
              "[1.6666666666666667, 3.0, 5.0, 8.333333333333334, 13.333333333333334]"
            ]
          },
          "metadata": {},
          "execution_count": 59
        }
      ]
    },
    {
      "cell_type": "code",
      "source": [
        "number_array.reshape(-1,1)"
      ],
      "metadata": {
        "colab": {
          "base_uri": "https://localhost:8080/"
        },
        "id": "vepnZvIPSHTQ",
        "outputId": "9a4b48bd-99c8-45ea-baa9-c59819b95cd9"
      },
      "execution_count": 60,
      "outputs": [
        {
          "output_type": "execute_result",
          "data": {
            "text/plain": [
              "array([[ 5],\n",
              "       [ 9],\n",
              "       [15],\n",
              "       [25],\n",
              "       [40]])"
            ]
          },
          "metadata": {},
          "execution_count": 60
        }
      ]
    },
    {
      "cell_type": "code",
      "source": [
        "df = np.array([[1,2,3], [4,5,6]])"
      ],
      "metadata": {
        "id": "AE-xgIFrSxyA"
      },
      "execution_count": 61,
      "outputs": []
    },
    {
      "cell_type": "code",
      "source": [
        "import pandas as pd\n",
        "pd.DataFrame(df)"
      ],
      "metadata": {
        "colab": {
          "base_uri": "https://localhost:8080/",
          "height": 112
        },
        "id": "HzpYvZF0TA8G",
        "outputId": "4cf9a634-a691-48bb-d8ed-665a68f8a031"
      },
      "execution_count": 62,
      "outputs": [
        {
          "output_type": "execute_result",
          "data": {
            "text/plain": [
              "   0  1  2\n",
              "0  1  2  3\n",
              "1  4  5  6"
            ],
            "text/html": [
              "\n",
              "  <div id=\"df-7d42e6b4-c6a5-4184-b377-4450fb2724f4\" class=\"colab-df-container\">\n",
              "    <div>\n",
              "<style scoped>\n",
              "    .dataframe tbody tr th:only-of-type {\n",
              "        vertical-align: middle;\n",
              "    }\n",
              "\n",
              "    .dataframe tbody tr th {\n",
              "        vertical-align: top;\n",
              "    }\n",
              "\n",
              "    .dataframe thead th {\n",
              "        text-align: right;\n",
              "    }\n",
              "</style>\n",
              "<table border=\"1\" class=\"dataframe\">\n",
              "  <thead>\n",
              "    <tr style=\"text-align: right;\">\n",
              "      <th></th>\n",
              "      <th>0</th>\n",
              "      <th>1</th>\n",
              "      <th>2</th>\n",
              "    </tr>\n",
              "  </thead>\n",
              "  <tbody>\n",
              "    <tr>\n",
              "      <th>0</th>\n",
              "      <td>1</td>\n",
              "      <td>2</td>\n",
              "      <td>3</td>\n",
              "    </tr>\n",
              "    <tr>\n",
              "      <th>1</th>\n",
              "      <td>4</td>\n",
              "      <td>5</td>\n",
              "      <td>6</td>\n",
              "    </tr>\n",
              "  </tbody>\n",
              "</table>\n",
              "</div>\n",
              "    <div class=\"colab-df-buttons\">\n",
              "\n",
              "  <div class=\"colab-df-container\">\n",
              "    <button class=\"colab-df-convert\" onclick=\"convertToInteractive('df-7d42e6b4-c6a5-4184-b377-4450fb2724f4')\"\n",
              "            title=\"Convert this dataframe to an interactive table.\"\n",
              "            style=\"display:none;\">\n",
              "\n",
              "  <svg xmlns=\"http://www.w3.org/2000/svg\" height=\"24px\" viewBox=\"0 -960 960 960\">\n",
              "    <path d=\"M120-120v-720h720v720H120Zm60-500h600v-160H180v160Zm220 220h160v-160H400v160Zm0 220h160v-160H400v160ZM180-400h160v-160H180v160Zm440 0h160v-160H620v160ZM180-180h160v-160H180v160Zm440 0h160v-160H620v160Z\"/>\n",
              "  </svg>\n",
              "    </button>\n",
              "\n",
              "  <style>\n",
              "    .colab-df-container {\n",
              "      display:flex;\n",
              "      gap: 12px;\n",
              "    }\n",
              "\n",
              "    .colab-df-convert {\n",
              "      background-color: #E8F0FE;\n",
              "      border: none;\n",
              "      border-radius: 50%;\n",
              "      cursor: pointer;\n",
              "      display: none;\n",
              "      fill: #1967D2;\n",
              "      height: 32px;\n",
              "      padding: 0 0 0 0;\n",
              "      width: 32px;\n",
              "    }\n",
              "\n",
              "    .colab-df-convert:hover {\n",
              "      background-color: #E2EBFA;\n",
              "      box-shadow: 0px 1px 2px rgba(60, 64, 67, 0.3), 0px 1px 3px 1px rgba(60, 64, 67, 0.15);\n",
              "      fill: #174EA6;\n",
              "    }\n",
              "\n",
              "    .colab-df-buttons div {\n",
              "      margin-bottom: 4px;\n",
              "    }\n",
              "\n",
              "    [theme=dark] .colab-df-convert {\n",
              "      background-color: #3B4455;\n",
              "      fill: #D2E3FC;\n",
              "    }\n",
              "\n",
              "    [theme=dark] .colab-df-convert:hover {\n",
              "      background-color: #434B5C;\n",
              "      box-shadow: 0px 1px 3px 1px rgba(0, 0, 0, 0.15);\n",
              "      filter: drop-shadow(0px 1px 2px rgba(0, 0, 0, 0.3));\n",
              "      fill: #FFFFFF;\n",
              "    }\n",
              "  </style>\n",
              "\n",
              "    <script>\n",
              "      const buttonEl =\n",
              "        document.querySelector('#df-7d42e6b4-c6a5-4184-b377-4450fb2724f4 button.colab-df-convert');\n",
              "      buttonEl.style.display =\n",
              "        google.colab.kernel.accessAllowed ? 'block' : 'none';\n",
              "\n",
              "      async function convertToInteractive(key) {\n",
              "        const element = document.querySelector('#df-7d42e6b4-c6a5-4184-b377-4450fb2724f4');\n",
              "        const dataTable =\n",
              "          await google.colab.kernel.invokeFunction('convertToInteractive',\n",
              "                                                    [key], {});\n",
              "        if (!dataTable) return;\n",
              "\n",
              "        const docLinkHtml = 'Like what you see? Visit the ' +\n",
              "          '<a target=\"_blank\" href=https://colab.research.google.com/notebooks/data_table.ipynb>data table notebook</a>'\n",
              "          + ' to learn more about interactive tables.';\n",
              "        element.innerHTML = '';\n",
              "        dataTable['output_type'] = 'display_data';\n",
              "        await google.colab.output.renderOutput(dataTable, element);\n",
              "        const docLink = document.createElement('div');\n",
              "        docLink.innerHTML = docLinkHtml;\n",
              "        element.appendChild(docLink);\n",
              "      }\n",
              "    </script>\n",
              "  </div>\n",
              "\n",
              "\n",
              "<div id=\"df-fb42af06-7fcb-4909-85c3-51cdc4957399\">\n",
              "  <button class=\"colab-df-quickchart\" onclick=\"quickchart('df-fb42af06-7fcb-4909-85c3-51cdc4957399')\"\n",
              "            title=\"Suggest charts\"\n",
              "            style=\"display:none;\">\n",
              "\n",
              "<svg xmlns=\"http://www.w3.org/2000/svg\" height=\"24px\"viewBox=\"0 0 24 24\"\n",
              "     width=\"24px\">\n",
              "    <g>\n",
              "        <path d=\"M19 3H5c-1.1 0-2 .9-2 2v14c0 1.1.9 2 2 2h14c1.1 0 2-.9 2-2V5c0-1.1-.9-2-2-2zM9 17H7v-7h2v7zm4 0h-2V7h2v10zm4 0h-2v-4h2v4z\"/>\n",
              "    </g>\n",
              "</svg>\n",
              "  </button>\n",
              "\n",
              "<style>\n",
              "  .colab-df-quickchart {\n",
              "      --bg-color: #E8F0FE;\n",
              "      --fill-color: #1967D2;\n",
              "      --hover-bg-color: #E2EBFA;\n",
              "      --hover-fill-color: #174EA6;\n",
              "      --disabled-fill-color: #AAA;\n",
              "      --disabled-bg-color: #DDD;\n",
              "  }\n",
              "\n",
              "  [theme=dark] .colab-df-quickchart {\n",
              "      --bg-color: #3B4455;\n",
              "      --fill-color: #D2E3FC;\n",
              "      --hover-bg-color: #434B5C;\n",
              "      --hover-fill-color: #FFFFFF;\n",
              "      --disabled-bg-color: #3B4455;\n",
              "      --disabled-fill-color: #666;\n",
              "  }\n",
              "\n",
              "  .colab-df-quickchart {\n",
              "    background-color: var(--bg-color);\n",
              "    border: none;\n",
              "    border-radius: 50%;\n",
              "    cursor: pointer;\n",
              "    display: none;\n",
              "    fill: var(--fill-color);\n",
              "    height: 32px;\n",
              "    padding: 0;\n",
              "    width: 32px;\n",
              "  }\n",
              "\n",
              "  .colab-df-quickchart:hover {\n",
              "    background-color: var(--hover-bg-color);\n",
              "    box-shadow: 0 1px 2px rgba(60, 64, 67, 0.3), 0 1px 3px 1px rgba(60, 64, 67, 0.15);\n",
              "    fill: var(--button-hover-fill-color);\n",
              "  }\n",
              "\n",
              "  .colab-df-quickchart-complete:disabled,\n",
              "  .colab-df-quickchart-complete:disabled:hover {\n",
              "    background-color: var(--disabled-bg-color);\n",
              "    fill: var(--disabled-fill-color);\n",
              "    box-shadow: none;\n",
              "  }\n",
              "\n",
              "  .colab-df-spinner {\n",
              "    border: 2px solid var(--fill-color);\n",
              "    border-color: transparent;\n",
              "    border-bottom-color: var(--fill-color);\n",
              "    animation:\n",
              "      spin 1s steps(1) infinite;\n",
              "  }\n",
              "\n",
              "  @keyframes spin {\n",
              "    0% {\n",
              "      border-color: transparent;\n",
              "      border-bottom-color: var(--fill-color);\n",
              "      border-left-color: var(--fill-color);\n",
              "    }\n",
              "    20% {\n",
              "      border-color: transparent;\n",
              "      border-left-color: var(--fill-color);\n",
              "      border-top-color: var(--fill-color);\n",
              "    }\n",
              "    30% {\n",
              "      border-color: transparent;\n",
              "      border-left-color: var(--fill-color);\n",
              "      border-top-color: var(--fill-color);\n",
              "      border-right-color: var(--fill-color);\n",
              "    }\n",
              "    40% {\n",
              "      border-color: transparent;\n",
              "      border-right-color: var(--fill-color);\n",
              "      border-top-color: var(--fill-color);\n",
              "    }\n",
              "    60% {\n",
              "      border-color: transparent;\n",
              "      border-right-color: var(--fill-color);\n",
              "    }\n",
              "    80% {\n",
              "      border-color: transparent;\n",
              "      border-right-color: var(--fill-color);\n",
              "      border-bottom-color: var(--fill-color);\n",
              "    }\n",
              "    90% {\n",
              "      border-color: transparent;\n",
              "      border-bottom-color: var(--fill-color);\n",
              "    }\n",
              "  }\n",
              "</style>\n",
              "\n",
              "  <script>\n",
              "    async function quickchart(key) {\n",
              "      const quickchartButtonEl =\n",
              "        document.querySelector('#' + key + ' button');\n",
              "      quickchartButtonEl.disabled = true;  // To prevent multiple clicks.\n",
              "      quickchartButtonEl.classList.add('colab-df-spinner');\n",
              "      try {\n",
              "        const charts = await google.colab.kernel.invokeFunction(\n",
              "            'suggestCharts', [key], {});\n",
              "      } catch (error) {\n",
              "        console.error('Error during call to suggestCharts:', error);\n",
              "      }\n",
              "      quickchartButtonEl.classList.remove('colab-df-spinner');\n",
              "      quickchartButtonEl.classList.add('colab-df-quickchart-complete');\n",
              "    }\n",
              "    (() => {\n",
              "      let quickchartButtonEl =\n",
              "        document.querySelector('#df-fb42af06-7fcb-4909-85c3-51cdc4957399 button');\n",
              "      quickchartButtonEl.style.display =\n",
              "        google.colab.kernel.accessAllowed ? 'block' : 'none';\n",
              "    })();\n",
              "  </script>\n",
              "</div>\n",
              "\n",
              "    </div>\n",
              "  </div>\n"
            ]
          },
          "metadata": {},
          "execution_count": 62
        }
      ]
    },
    {
      "cell_type": "code",
      "source": [
        "np.linspace(0,10,20)"
      ],
      "metadata": {
        "colab": {
          "base_uri": "https://localhost:8080/"
        },
        "id": "tA26O5RXTfsj",
        "outputId": "19c6c971-cdbe-47a9-fe0f-05586d5e0ad7"
      },
      "execution_count": 25,
      "outputs": [
        {
          "output_type": "execute_result",
          "data": {
            "text/plain": [
              "array([ 0.        ,  0.52631579,  1.05263158,  1.57894737,  2.10526316,\n",
              "        2.63157895,  3.15789474,  3.68421053,  4.21052632,  4.73684211,\n",
              "        5.26315789,  5.78947368,  6.31578947,  6.84210526,  7.36842105,\n",
              "        7.89473684,  8.42105263,  8.94736842,  9.47368421, 10.        ])"
            ]
          },
          "metadata": {},
          "execution_count": 25
        }
      ]
    },
    {
      "cell_type": "code",
      "source": [
        "np.arange(0,101,5)"
      ],
      "metadata": {
        "colab": {
          "base_uri": "https://localhost:8080/"
        },
        "id": "EanTrD63T1D7",
        "outputId": "7f504209-9441-4995-f5b1-ae0bd39d9379"
      },
      "execution_count": 28,
      "outputs": [
        {
          "output_type": "execute_result",
          "data": {
            "text/plain": [
              "array([  0,   5,  10,  15,  20,  25,  30,  35,  40,  45,  50,  55,  60,\n",
              "        65,  70,  75,  80,  85,  90,  95, 100])"
            ]
          },
          "metadata": {},
          "execution_count": 28
        }
      ]
    },
    {
      "cell_type": "code",
      "source": [
        "np.random.random()"
      ],
      "metadata": {
        "colab": {
          "base_uri": "https://localhost:8080/"
        },
        "id": "Ssgg40mNUY-F",
        "outputId": "633393dd-3220-4cb2-deed-bf4fdb88d4f6"
      },
      "execution_count": 34,
      "outputs": [
        {
          "output_type": "execute_result",
          "data": {
            "text/plain": [
              "0.12567067121483977"
            ]
          },
          "metadata": {},
          "execution_count": 34
        }
      ]
    },
    {
      "cell_type": "code",
      "source": [
        "np.random.seed(123)\n",
        "np.random.random()"
      ],
      "metadata": {
        "colab": {
          "base_uri": "https://localhost:8080/"
        },
        "id": "k1oS4EdmUytk",
        "outputId": "41b0e783-006f-4c85-fb70-834dec729c43"
      },
      "execution_count": 40,
      "outputs": [
        {
          "output_type": "execute_result",
          "data": {
            "text/plain": [
              "0.6964691855978616"
            ]
          },
          "metadata": {},
          "execution_count": 40
        }
      ]
    },
    {
      "cell_type": "code",
      "source": [
        "np.random.random()*10"
      ],
      "metadata": {
        "colab": {
          "base_uri": "https://localhost:8080/"
        },
        "id": "0ZRzVILuVE3M",
        "outputId": "e50c60be-9212-46d2-af4b-9dba8e1d52b2"
      },
      "execution_count": 45,
      "outputs": [
        {
          "output_type": "execute_result",
          "data": {
            "text/plain": [
              "4.23106460124461"
            ]
          },
          "metadata": {},
          "execution_count": 45
        }
      ]
    },
    {
      "cell_type": "code",
      "source": [
        "number_array"
      ],
      "metadata": {
        "colab": {
          "base_uri": "https://localhost:8080/"
        },
        "id": "3kN6Y-mzVOLU",
        "outputId": "91212268-e9ec-4242-df1b-a74354ae4678"
      },
      "execution_count": 46,
      "outputs": [
        {
          "output_type": "execute_result",
          "data": {
            "text/plain": [
              "array([ 5,  9, 15, 25, 40])"
            ]
          },
          "metadata": {},
          "execution_count": 46
        }
      ]
    },
    {
      "cell_type": "code",
      "source": [
        "number_array.argmin()"
      ],
      "metadata": {
        "colab": {
          "base_uri": "https://localhost:8080/"
        },
        "id": "IcXJgS9PVaK9",
        "outputId": "4e8e96a4-6f1e-49cf-98fe-e17a6a667ba7"
      },
      "execution_count": 63,
      "outputs": [
        {
          "output_type": "execute_result",
          "data": {
            "text/plain": [
              "0"
            ]
          },
          "metadata": {},
          "execution_count": 63
        }
      ]
    },
    {
      "cell_type": "code",
      "source": [
        "number_array[0]"
      ],
      "metadata": {
        "colab": {
          "base_uri": "https://localhost:8080/"
        },
        "id": "zasDFG0VVd7d",
        "outputId": "3c535531-5a17-440d-eda1-faab725482ba"
      },
      "execution_count": 64,
      "outputs": [
        {
          "output_type": "execute_result",
          "data": {
            "text/plain": [
              "5"
            ]
          },
          "metadata": {},
          "execution_count": 64
        }
      ]
    },
    {
      "cell_type": "code",
      "source": [
        "number_array.argmax()"
      ],
      "metadata": {
        "colab": {
          "base_uri": "https://localhost:8080/"
        },
        "id": "gCTKoStjVrc1",
        "outputId": "c8393dfa-4a98-4cc9-f1a7-2bd142096bc0"
      },
      "execution_count": 65,
      "outputs": [
        {
          "output_type": "execute_result",
          "data": {
            "text/plain": [
              "4"
            ]
          },
          "metadata": {},
          "execution_count": 65
        }
      ]
    },
    {
      "cell_type": "code",
      "source": [
        "number_array[4]"
      ],
      "metadata": {
        "colab": {
          "base_uri": "https://localhost:8080/"
        },
        "id": "tJZ1tolRV7ok",
        "outputId": "45d279e3-ef65-4ab7-f0b6-11e3caf231a2"
      },
      "execution_count": 66,
      "outputs": [
        {
          "output_type": "execute_result",
          "data": {
            "text/plain": [
              "40"
            ]
          },
          "metadata": {},
          "execution_count": 66
        }
      ]
    },
    {
      "cell_type": "code",
      "source": [
        "number_array"
      ],
      "metadata": {
        "colab": {
          "base_uri": "https://localhost:8080/"
        },
        "id": "DMXhdXEKWikU",
        "outputId": "10f7b230-6d2a-49a9-8ce7-a21dc632a641"
      },
      "execution_count": 67,
      "outputs": [
        {
          "output_type": "execute_result",
          "data": {
            "text/plain": [
              "array([ 5,  9, 15, 25, 40])"
            ]
          },
          "metadata": {},
          "execution_count": 67
        }
      ]
    },
    {
      "cell_type": "code",
      "source": [
        "np.where(number_array > 12, 'big', 'small')"
      ],
      "metadata": {
        "colab": {
          "base_uri": "https://localhost:8080/"
        },
        "id": "EE1PQV9oWktN",
        "outputId": "5f5664c7-6d4b-43a8-a726-30c91dd0e086"
      },
      "execution_count": 70,
      "outputs": [
        {
          "output_type": "execute_result",
          "data": {
            "text/plain": [
              "array(['small', 'small', 'big', 'big', 'big'], dtype='<U5')"
            ]
          },
          "metadata": {},
          "execution_count": 70
        }
      ]
    },
    {
      "cell_type": "code",
      "source": [
        "import pandas as pd\n",
        "df = pd.read_csv('titanic.csv')"
      ],
      "metadata": {
        "id": "lRwG2P6ZWxDF"
      },
      "execution_count": 72,
      "outputs": []
    },
    {
      "cell_type": "code",
      "source": [
        "df"
      ],
      "metadata": {
        "colab": {
          "base_uri": "https://localhost:8080/",
          "height": 458
        },
        "id": "jZWNw3D6W-xK",
        "outputId": "79da5e35-0bd7-422a-c041-686b1ee95f9a"
      },
      "execution_count": 73,
      "outputs": [
        {
          "output_type": "execute_result",
          "data": {
            "text/plain": [
              "     PassengerId  Survived  Pclass  \\\n",
              "0              1         0       3   \n",
              "1              2         1       1   \n",
              "2              3         1       3   \n",
              "3              4         1       1   \n",
              "4              5         0       3   \n",
              "..           ...       ...     ...   \n",
              "886          887         0       2   \n",
              "887          888         1       1   \n",
              "888          889         0       3   \n",
              "889          890         1       1   \n",
              "890          891         0       3   \n",
              "\n",
              "                                                  Name     Sex   Age  SibSp  \\\n",
              "0                              Braund, Mr. Owen Harris    male  22.0      1   \n",
              "1    Cumings, Mrs. John Bradley (Florence Briggs Th...  female  38.0      1   \n",
              "2                               Heikkinen, Miss. Laina  female  26.0      0   \n",
              "3         Futrelle, Mrs. Jacques Heath (Lily May Peel)  female  35.0      1   \n",
              "4                             Allen, Mr. William Henry    male  35.0      0   \n",
              "..                                                 ...     ...   ...    ...   \n",
              "886                              Montvila, Rev. Juozas    male  27.0      0   \n",
              "887                       Graham, Miss. Margaret Edith  female  19.0      0   \n",
              "888           Johnston, Miss. Catherine Helen \"Carrie\"  female   NaN      1   \n",
              "889                              Behr, Mr. Karl Howell    male  26.0      0   \n",
              "890                                Dooley, Mr. Patrick    male  32.0      0   \n",
              "\n",
              "     Parch            Ticket     Fare Cabin Embarked  \n",
              "0        0         A/5 21171   7.2500   NaN        S  \n",
              "1        0          PC 17599  71.2833   C85        C  \n",
              "2        0  STON/O2. 3101282   7.9250   NaN        S  \n",
              "3        0            113803  53.1000  C123        S  \n",
              "4        0            373450   8.0500   NaN        S  \n",
              "..     ...               ...      ...   ...      ...  \n",
              "886      0            211536  13.0000   NaN        S  \n",
              "887      0            112053  30.0000   B42        S  \n",
              "888      2        W./C. 6607  23.4500   NaN        S  \n",
              "889      0            111369  30.0000  C148        C  \n",
              "890      0            370376   7.7500   NaN        Q  \n",
              "\n",
              "[891 rows x 12 columns]"
            ],
            "text/html": [
              "\n",
              "  <div id=\"df-b55bb160-d483-43c9-96c8-6b96874a9946\" class=\"colab-df-container\">\n",
              "    <div>\n",
              "<style scoped>\n",
              "    .dataframe tbody tr th:only-of-type {\n",
              "        vertical-align: middle;\n",
              "    }\n",
              "\n",
              "    .dataframe tbody tr th {\n",
              "        vertical-align: top;\n",
              "    }\n",
              "\n",
              "    .dataframe thead th {\n",
              "        text-align: right;\n",
              "    }\n",
              "</style>\n",
              "<table border=\"1\" class=\"dataframe\">\n",
              "  <thead>\n",
              "    <tr style=\"text-align: right;\">\n",
              "      <th></th>\n",
              "      <th>PassengerId</th>\n",
              "      <th>Survived</th>\n",
              "      <th>Pclass</th>\n",
              "      <th>Name</th>\n",
              "      <th>Sex</th>\n",
              "      <th>Age</th>\n",
              "      <th>SibSp</th>\n",
              "      <th>Parch</th>\n",
              "      <th>Ticket</th>\n",
              "      <th>Fare</th>\n",
              "      <th>Cabin</th>\n",
              "      <th>Embarked</th>\n",
              "    </tr>\n",
              "  </thead>\n",
              "  <tbody>\n",
              "    <tr>\n",
              "      <th>0</th>\n",
              "      <td>1</td>\n",
              "      <td>0</td>\n",
              "      <td>3</td>\n",
              "      <td>Braund, Mr. Owen Harris</td>\n",
              "      <td>male</td>\n",
              "      <td>22.0</td>\n",
              "      <td>1</td>\n",
              "      <td>0</td>\n",
              "      <td>A/5 21171</td>\n",
              "      <td>7.2500</td>\n",
              "      <td>NaN</td>\n",
              "      <td>S</td>\n",
              "    </tr>\n",
              "    <tr>\n",
              "      <th>1</th>\n",
              "      <td>2</td>\n",
              "      <td>1</td>\n",
              "      <td>1</td>\n",
              "      <td>Cumings, Mrs. John Bradley (Florence Briggs Th...</td>\n",
              "      <td>female</td>\n",
              "      <td>38.0</td>\n",
              "      <td>1</td>\n",
              "      <td>0</td>\n",
              "      <td>PC 17599</td>\n",
              "      <td>71.2833</td>\n",
              "      <td>C85</td>\n",
              "      <td>C</td>\n",
              "    </tr>\n",
              "    <tr>\n",
              "      <th>2</th>\n",
              "      <td>3</td>\n",
              "      <td>1</td>\n",
              "      <td>3</td>\n",
              "      <td>Heikkinen, Miss. Laina</td>\n",
              "      <td>female</td>\n",
              "      <td>26.0</td>\n",
              "      <td>0</td>\n",
              "      <td>0</td>\n",
              "      <td>STON/O2. 3101282</td>\n",
              "      <td>7.9250</td>\n",
              "      <td>NaN</td>\n",
              "      <td>S</td>\n",
              "    </tr>\n",
              "    <tr>\n",
              "      <th>3</th>\n",
              "      <td>4</td>\n",
              "      <td>1</td>\n",
              "      <td>1</td>\n",
              "      <td>Futrelle, Mrs. Jacques Heath (Lily May Peel)</td>\n",
              "      <td>female</td>\n",
              "      <td>35.0</td>\n",
              "      <td>1</td>\n",
              "      <td>0</td>\n",
              "      <td>113803</td>\n",
              "      <td>53.1000</td>\n",
              "      <td>C123</td>\n",
              "      <td>S</td>\n",
              "    </tr>\n",
              "    <tr>\n",
              "      <th>4</th>\n",
              "      <td>5</td>\n",
              "      <td>0</td>\n",
              "      <td>3</td>\n",
              "      <td>Allen, Mr. William Henry</td>\n",
              "      <td>male</td>\n",
              "      <td>35.0</td>\n",
              "      <td>0</td>\n",
              "      <td>0</td>\n",
              "      <td>373450</td>\n",
              "      <td>8.0500</td>\n",
              "      <td>NaN</td>\n",
              "      <td>S</td>\n",
              "    </tr>\n",
              "    <tr>\n",
              "      <th>...</th>\n",
              "      <td>...</td>\n",
              "      <td>...</td>\n",
              "      <td>...</td>\n",
              "      <td>...</td>\n",
              "      <td>...</td>\n",
              "      <td>...</td>\n",
              "      <td>...</td>\n",
              "      <td>...</td>\n",
              "      <td>...</td>\n",
              "      <td>...</td>\n",
              "      <td>...</td>\n",
              "      <td>...</td>\n",
              "    </tr>\n",
              "    <tr>\n",
              "      <th>886</th>\n",
              "      <td>887</td>\n",
              "      <td>0</td>\n",
              "      <td>2</td>\n",
              "      <td>Montvila, Rev. Juozas</td>\n",
              "      <td>male</td>\n",
              "      <td>27.0</td>\n",
              "      <td>0</td>\n",
              "      <td>0</td>\n",
              "      <td>211536</td>\n",
              "      <td>13.0000</td>\n",
              "      <td>NaN</td>\n",
              "      <td>S</td>\n",
              "    </tr>\n",
              "    <tr>\n",
              "      <th>887</th>\n",
              "      <td>888</td>\n",
              "      <td>1</td>\n",
              "      <td>1</td>\n",
              "      <td>Graham, Miss. Margaret Edith</td>\n",
              "      <td>female</td>\n",
              "      <td>19.0</td>\n",
              "      <td>0</td>\n",
              "      <td>0</td>\n",
              "      <td>112053</td>\n",
              "      <td>30.0000</td>\n",
              "      <td>B42</td>\n",
              "      <td>S</td>\n",
              "    </tr>\n",
              "    <tr>\n",
              "      <th>888</th>\n",
              "      <td>889</td>\n",
              "      <td>0</td>\n",
              "      <td>3</td>\n",
              "      <td>Johnston, Miss. Catherine Helen \"Carrie\"</td>\n",
              "      <td>female</td>\n",
              "      <td>NaN</td>\n",
              "      <td>1</td>\n",
              "      <td>2</td>\n",
              "      <td>W./C. 6607</td>\n",
              "      <td>23.4500</td>\n",
              "      <td>NaN</td>\n",
              "      <td>S</td>\n",
              "    </tr>\n",
              "    <tr>\n",
              "      <th>889</th>\n",
              "      <td>890</td>\n",
              "      <td>1</td>\n",
              "      <td>1</td>\n",
              "      <td>Behr, Mr. Karl Howell</td>\n",
              "      <td>male</td>\n",
              "      <td>26.0</td>\n",
              "      <td>0</td>\n",
              "      <td>0</td>\n",
              "      <td>111369</td>\n",
              "      <td>30.0000</td>\n",
              "      <td>C148</td>\n",
              "      <td>C</td>\n",
              "    </tr>\n",
              "    <tr>\n",
              "      <th>890</th>\n",
              "      <td>891</td>\n",
              "      <td>0</td>\n",
              "      <td>3</td>\n",
              "      <td>Dooley, Mr. Patrick</td>\n",
              "      <td>male</td>\n",
              "      <td>32.0</td>\n",
              "      <td>0</td>\n",
              "      <td>0</td>\n",
              "      <td>370376</td>\n",
              "      <td>7.7500</td>\n",
              "      <td>NaN</td>\n",
              "      <td>Q</td>\n",
              "    </tr>\n",
              "  </tbody>\n",
              "</table>\n",
              "<p>891 rows × 12 columns</p>\n",
              "</div>\n",
              "    <div class=\"colab-df-buttons\">\n",
              "\n",
              "  <div class=\"colab-df-container\">\n",
              "    <button class=\"colab-df-convert\" onclick=\"convertToInteractive('df-b55bb160-d483-43c9-96c8-6b96874a9946')\"\n",
              "            title=\"Convert this dataframe to an interactive table.\"\n",
              "            style=\"display:none;\">\n",
              "\n",
              "  <svg xmlns=\"http://www.w3.org/2000/svg\" height=\"24px\" viewBox=\"0 -960 960 960\">\n",
              "    <path d=\"M120-120v-720h720v720H120Zm60-500h600v-160H180v160Zm220 220h160v-160H400v160Zm0 220h160v-160H400v160ZM180-400h160v-160H180v160Zm440 0h160v-160H620v160ZM180-180h160v-160H180v160Zm440 0h160v-160H620v160Z\"/>\n",
              "  </svg>\n",
              "    </button>\n",
              "\n",
              "  <style>\n",
              "    .colab-df-container {\n",
              "      display:flex;\n",
              "      gap: 12px;\n",
              "    }\n",
              "\n",
              "    .colab-df-convert {\n",
              "      background-color: #E8F0FE;\n",
              "      border: none;\n",
              "      border-radius: 50%;\n",
              "      cursor: pointer;\n",
              "      display: none;\n",
              "      fill: #1967D2;\n",
              "      height: 32px;\n",
              "      padding: 0 0 0 0;\n",
              "      width: 32px;\n",
              "    }\n",
              "\n",
              "    .colab-df-convert:hover {\n",
              "      background-color: #E2EBFA;\n",
              "      box-shadow: 0px 1px 2px rgba(60, 64, 67, 0.3), 0px 1px 3px 1px rgba(60, 64, 67, 0.15);\n",
              "      fill: #174EA6;\n",
              "    }\n",
              "\n",
              "    .colab-df-buttons div {\n",
              "      margin-bottom: 4px;\n",
              "    }\n",
              "\n",
              "    [theme=dark] .colab-df-convert {\n",
              "      background-color: #3B4455;\n",
              "      fill: #D2E3FC;\n",
              "    }\n",
              "\n",
              "    [theme=dark] .colab-df-convert:hover {\n",
              "      background-color: #434B5C;\n",
              "      box-shadow: 0px 1px 3px 1px rgba(0, 0, 0, 0.15);\n",
              "      filter: drop-shadow(0px 1px 2px rgba(0, 0, 0, 0.3));\n",
              "      fill: #FFFFFF;\n",
              "    }\n",
              "  </style>\n",
              "\n",
              "    <script>\n",
              "      const buttonEl =\n",
              "        document.querySelector('#df-b55bb160-d483-43c9-96c8-6b96874a9946 button.colab-df-convert');\n",
              "      buttonEl.style.display =\n",
              "        google.colab.kernel.accessAllowed ? 'block' : 'none';\n",
              "\n",
              "      async function convertToInteractive(key) {\n",
              "        const element = document.querySelector('#df-b55bb160-d483-43c9-96c8-6b96874a9946');\n",
              "        const dataTable =\n",
              "          await google.colab.kernel.invokeFunction('convertToInteractive',\n",
              "                                                    [key], {});\n",
              "        if (!dataTable) return;\n",
              "\n",
              "        const docLinkHtml = 'Like what you see? Visit the ' +\n",
              "          '<a target=\"_blank\" href=https://colab.research.google.com/notebooks/data_table.ipynb>data table notebook</a>'\n",
              "          + ' to learn more about interactive tables.';\n",
              "        element.innerHTML = '';\n",
              "        dataTable['output_type'] = 'display_data';\n",
              "        await google.colab.output.renderOutput(dataTable, element);\n",
              "        const docLink = document.createElement('div');\n",
              "        docLink.innerHTML = docLinkHtml;\n",
              "        element.appendChild(docLink);\n",
              "      }\n",
              "    </script>\n",
              "  </div>\n",
              "\n",
              "\n",
              "<div id=\"df-8ec2de5d-d897-40cb-a88d-cdc3a8d8b966\">\n",
              "  <button class=\"colab-df-quickchart\" onclick=\"quickchart('df-8ec2de5d-d897-40cb-a88d-cdc3a8d8b966')\"\n",
              "            title=\"Suggest charts\"\n",
              "            style=\"display:none;\">\n",
              "\n",
              "<svg xmlns=\"http://www.w3.org/2000/svg\" height=\"24px\"viewBox=\"0 0 24 24\"\n",
              "     width=\"24px\">\n",
              "    <g>\n",
              "        <path d=\"M19 3H5c-1.1 0-2 .9-2 2v14c0 1.1.9 2 2 2h14c1.1 0 2-.9 2-2V5c0-1.1-.9-2-2-2zM9 17H7v-7h2v7zm4 0h-2V7h2v10zm4 0h-2v-4h2v4z\"/>\n",
              "    </g>\n",
              "</svg>\n",
              "  </button>\n",
              "\n",
              "<style>\n",
              "  .colab-df-quickchart {\n",
              "      --bg-color: #E8F0FE;\n",
              "      --fill-color: #1967D2;\n",
              "      --hover-bg-color: #E2EBFA;\n",
              "      --hover-fill-color: #174EA6;\n",
              "      --disabled-fill-color: #AAA;\n",
              "      --disabled-bg-color: #DDD;\n",
              "  }\n",
              "\n",
              "  [theme=dark] .colab-df-quickchart {\n",
              "      --bg-color: #3B4455;\n",
              "      --fill-color: #D2E3FC;\n",
              "      --hover-bg-color: #434B5C;\n",
              "      --hover-fill-color: #FFFFFF;\n",
              "      --disabled-bg-color: #3B4455;\n",
              "      --disabled-fill-color: #666;\n",
              "  }\n",
              "\n",
              "  .colab-df-quickchart {\n",
              "    background-color: var(--bg-color);\n",
              "    border: none;\n",
              "    border-radius: 50%;\n",
              "    cursor: pointer;\n",
              "    display: none;\n",
              "    fill: var(--fill-color);\n",
              "    height: 32px;\n",
              "    padding: 0;\n",
              "    width: 32px;\n",
              "  }\n",
              "\n",
              "  .colab-df-quickchart:hover {\n",
              "    background-color: var(--hover-bg-color);\n",
              "    box-shadow: 0 1px 2px rgba(60, 64, 67, 0.3), 0 1px 3px 1px rgba(60, 64, 67, 0.15);\n",
              "    fill: var(--button-hover-fill-color);\n",
              "  }\n",
              "\n",
              "  .colab-df-quickchart-complete:disabled,\n",
              "  .colab-df-quickchart-complete:disabled:hover {\n",
              "    background-color: var(--disabled-bg-color);\n",
              "    fill: var(--disabled-fill-color);\n",
              "    box-shadow: none;\n",
              "  }\n",
              "\n",
              "  .colab-df-spinner {\n",
              "    border: 2px solid var(--fill-color);\n",
              "    border-color: transparent;\n",
              "    border-bottom-color: var(--fill-color);\n",
              "    animation:\n",
              "      spin 1s steps(1) infinite;\n",
              "  }\n",
              "\n",
              "  @keyframes spin {\n",
              "    0% {\n",
              "      border-color: transparent;\n",
              "      border-bottom-color: var(--fill-color);\n",
              "      border-left-color: var(--fill-color);\n",
              "    }\n",
              "    20% {\n",
              "      border-color: transparent;\n",
              "      border-left-color: var(--fill-color);\n",
              "      border-top-color: var(--fill-color);\n",
              "    }\n",
              "    30% {\n",
              "      border-color: transparent;\n",
              "      border-left-color: var(--fill-color);\n",
              "      border-top-color: var(--fill-color);\n",
              "      border-right-color: var(--fill-color);\n",
              "    }\n",
              "    40% {\n",
              "      border-color: transparent;\n",
              "      border-right-color: var(--fill-color);\n",
              "      border-top-color: var(--fill-color);\n",
              "    }\n",
              "    60% {\n",
              "      border-color: transparent;\n",
              "      border-right-color: var(--fill-color);\n",
              "    }\n",
              "    80% {\n",
              "      border-color: transparent;\n",
              "      border-right-color: var(--fill-color);\n",
              "      border-bottom-color: var(--fill-color);\n",
              "    }\n",
              "    90% {\n",
              "      border-color: transparent;\n",
              "      border-bottom-color: var(--fill-color);\n",
              "    }\n",
              "  }\n",
              "</style>\n",
              "\n",
              "  <script>\n",
              "    async function quickchart(key) {\n",
              "      const quickchartButtonEl =\n",
              "        document.querySelector('#' + key + ' button');\n",
              "      quickchartButtonEl.disabled = true;  // To prevent multiple clicks.\n",
              "      quickchartButtonEl.classList.add('colab-df-spinner');\n",
              "      try {\n",
              "        const charts = await google.colab.kernel.invokeFunction(\n",
              "            'suggestCharts', [key], {});\n",
              "      } catch (error) {\n",
              "        console.error('Error during call to suggestCharts:', error);\n",
              "      }\n",
              "      quickchartButtonEl.classList.remove('colab-df-spinner');\n",
              "      quickchartButtonEl.classList.add('colab-df-quickchart-complete');\n",
              "    }\n",
              "    (() => {\n",
              "      let quickchartButtonEl =\n",
              "        document.querySelector('#df-8ec2de5d-d897-40cb-a88d-cdc3a8d8b966 button');\n",
              "      quickchartButtonEl.style.display =\n",
              "        google.colab.kernel.accessAllowed ? 'block' : 'none';\n",
              "    })();\n",
              "  </script>\n",
              "</div>\n",
              "\n",
              "  <div id=\"id_bd0df788-0063-4e55-8a1b-2e0aaeb12def\">\n",
              "    <style>\n",
              "      .colab-df-generate {\n",
              "        background-color: #E8F0FE;\n",
              "        border: none;\n",
              "        border-radius: 50%;\n",
              "        cursor: pointer;\n",
              "        display: none;\n",
              "        fill: #1967D2;\n",
              "        height: 32px;\n",
              "        padding: 0 0 0 0;\n",
              "        width: 32px;\n",
              "      }\n",
              "\n",
              "      .colab-df-generate:hover {\n",
              "        background-color: #E2EBFA;\n",
              "        box-shadow: 0px 1px 2px rgba(60, 64, 67, 0.3), 0px 1px 3px 1px rgba(60, 64, 67, 0.15);\n",
              "        fill: #174EA6;\n",
              "      }\n",
              "\n",
              "      [theme=dark] .colab-df-generate {\n",
              "        background-color: #3B4455;\n",
              "        fill: #D2E3FC;\n",
              "      }\n",
              "\n",
              "      [theme=dark] .colab-df-generate:hover {\n",
              "        background-color: #434B5C;\n",
              "        box-shadow: 0px 1px 3px 1px rgba(0, 0, 0, 0.15);\n",
              "        filter: drop-shadow(0px 1px 2px rgba(0, 0, 0, 0.3));\n",
              "        fill: #FFFFFF;\n",
              "      }\n",
              "    </style>\n",
              "    <button class=\"colab-df-generate\" onclick=\"generateWithVariable('df')\"\n",
              "            title=\"Generate code using this dataframe.\"\n",
              "            style=\"display:none;\">\n",
              "\n",
              "  <svg xmlns=\"http://www.w3.org/2000/svg\" height=\"24px\"viewBox=\"0 0 24 24\"\n",
              "       width=\"24px\">\n",
              "    <path d=\"M7,19H8.4L18.45,9,17,7.55,7,17.6ZM5,21V16.75L18.45,3.32a2,2,0,0,1,2.83,0l1.4,1.43a1.91,1.91,0,0,1,.58,1.4,1.91,1.91,0,0,1-.58,1.4L9.25,21ZM18.45,9,17,7.55Zm-12,3A5.31,5.31,0,0,0,4.9,8.1,5.31,5.31,0,0,0,1,6.5,5.31,5.31,0,0,0,4.9,4.9,5.31,5.31,0,0,0,6.5,1,5.31,5.31,0,0,0,8.1,4.9,5.31,5.31,0,0,0,12,6.5,5.46,5.46,0,0,0,6.5,12Z\"/>\n",
              "  </svg>\n",
              "    </button>\n",
              "    <script>\n",
              "      (() => {\n",
              "      const buttonEl =\n",
              "        document.querySelector('#id_bd0df788-0063-4e55-8a1b-2e0aaeb12def button.colab-df-generate');\n",
              "      buttonEl.style.display =\n",
              "        google.colab.kernel.accessAllowed ? 'block' : 'none';\n",
              "\n",
              "      buttonEl.onclick = () => {\n",
              "        google.colab.notebook.generateWithVariable('df');\n",
              "      }\n",
              "      })();\n",
              "    </script>\n",
              "  </div>\n",
              "\n",
              "    </div>\n",
              "  </div>\n"
            ]
          },
          "metadata": {},
          "execution_count": 73
        }
      ]
    },
    {
      "cell_type": "code",
      "source": [
        "np.where(df['Age']> 50, 'old','young')"
      ],
      "metadata": {
        "colab": {
          "base_uri": "https://localhost:8080/"
        },
        "id": "gZsBAuNLW_MK",
        "outputId": "a2c24698-a833-4031-9820-02d7412fdd97"
      },
      "execution_count": 74,
      "outputs": [
        {
          "output_type": "execute_result",
          "data": {
            "text/plain": [
              "array(['young', 'young', 'young', 'young', 'young', 'young', 'old',\n",
              "       'young', 'young', 'young', 'young', 'old', 'young', 'young',\n",
              "       'young', 'old', 'young', 'young', 'young', 'young', 'young',\n",
              "       'young', 'young', 'young', 'young', 'young', 'young', 'young',\n",
              "       'young', 'young', 'young', 'young', 'young', 'old', 'young',\n",
              "       'young', 'young', 'young', 'young', 'young', 'young', 'young',\n",
              "       'young', 'young', 'young', 'young', 'young', 'young', 'young',\n",
              "       'young', 'young', 'young', 'young', 'young', 'old', 'young',\n",
              "       'young', 'young', 'young', 'young', 'young', 'young', 'young',\n",
              "       'young', 'young', 'young', 'young', 'young', 'young', 'young',\n",
              "       'young', 'young', 'young', 'young', 'young', 'young', 'young',\n",
              "       'young', 'young', 'young', 'young', 'young', 'young', 'young',\n",
              "       'young', 'young', 'young', 'young', 'young', 'young', 'young',\n",
              "       'young', 'young', 'young', 'old', 'young', 'old', 'young', 'young',\n",
              "       'young', 'young', 'young', 'young', 'young', 'young', 'young',\n",
              "       'young', 'young', 'young', 'young', 'young', 'young', 'young',\n",
              "       'young', 'young', 'young', 'old', 'young', 'young', 'young',\n",
              "       'young', 'young', 'young', 'young', 'old', 'young', 'young',\n",
              "       'young', 'young', 'young', 'young', 'young', 'young', 'young',\n",
              "       'young', 'young', 'young', 'young', 'young', 'young', 'young',\n",
              "       'young', 'young', 'young', 'young', 'young', 'young', 'young',\n",
              "       'young', 'young', 'old', 'young', 'old', 'young', 'young', 'old',\n",
              "       'young', 'young', 'young', 'young', 'young', 'young', 'young',\n",
              "       'young', 'young', 'young', 'young', 'young', 'young', 'young',\n",
              "       'old', 'young', 'young', 'young', 'old', 'young', 'young', 'young',\n",
              "       'young', 'young', 'young', 'young', 'young', 'young', 'young',\n",
              "       'young', 'young', 'young', 'young', 'young', 'young', 'young',\n",
              "       'young', 'young', 'young', 'old', 'young', 'young', 'young',\n",
              "       'young', 'young', 'young', 'young', 'young', 'young', 'young',\n",
              "       'young', 'young', 'young', 'young', 'young', 'young', 'young',\n",
              "       'young', 'young', 'young', 'young', 'young', 'young', 'young',\n",
              "       'young', 'young', 'old', 'young', 'young', 'young', 'young',\n",
              "       'young', 'young', 'young', 'young', 'young', 'old', 'young',\n",
              "       'young', 'young', 'young', 'young', 'young', 'young', 'young',\n",
              "       'young', 'young', 'young', 'young', 'young', 'young', 'young',\n",
              "       'young', 'old', 'young', 'young', 'old', 'young', 'young', 'young',\n",
              "       'young', 'young', 'young', 'young', 'young', 'young', 'old',\n",
              "       'young', 'young', 'young', 'young', 'young', 'old', 'young',\n",
              "       'young', 'young', 'young', 'young', 'young', 'old', 'young',\n",
              "       'young', 'young', 'young', 'old', 'young', 'young', 'young',\n",
              "       'young', 'young', 'young', 'young', 'young', 'young', 'young',\n",
              "       'young', 'young', 'young', 'young', 'young', 'young', 'young',\n",
              "       'young', 'young', 'young', 'young', 'young', 'young', 'young',\n",
              "       'young', 'young', 'young', 'young', 'young', 'young', 'young',\n",
              "       'young', 'young', 'young', 'young', 'young', 'old', 'young',\n",
              "       'young', 'young', 'young', 'young', 'young', 'young', 'young',\n",
              "       'old', 'young', 'young', 'young', 'young', 'young', 'young',\n",
              "       'young', 'young', 'young', 'young', 'young', 'young', 'young',\n",
              "       'young', 'young', 'young', 'young', 'young', 'young', 'young',\n",
              "       'young', 'young', 'young', 'young', 'young', 'young', 'young',\n",
              "       'young', 'young', 'young', 'young', 'young', 'young', 'young',\n",
              "       'young', 'young', 'young', 'young', 'young', 'old', 'young',\n",
              "       'young', 'young', 'young', 'young', 'young', 'young', 'young',\n",
              "       'young', 'young', 'young', 'young', 'young', 'young', 'young',\n",
              "       'young', 'young', 'young', 'young', 'young', 'young', 'young',\n",
              "       'young', 'young', 'young', 'young', 'young', 'young', 'young',\n",
              "       'young', 'young', 'young', 'young', 'young', 'young', 'young',\n",
              "       'young', 'young', 'young', 'old', 'young', 'young', 'young',\n",
              "       'young', 'young', 'young', 'young', 'young', 'young', 'young',\n",
              "       'young', 'young', 'young', 'young', 'young', 'young', 'young',\n",
              "       'young', 'young', 'young', 'young', 'young', 'young', 'young',\n",
              "       'young', 'young', 'young', 'young', 'young', 'young', 'young',\n",
              "       'old', 'young', 'young', 'young', 'young', 'young', 'young',\n",
              "       'young', 'young', 'young', 'young', 'old', 'young', 'young',\n",
              "       'young', 'young', 'young', 'young', 'old', 'young', 'young',\n",
              "       'young', 'young', 'young', 'young', 'young', 'young', 'young',\n",
              "       'young', 'old', 'young', 'young', 'young', 'young', 'young',\n",
              "       'young', 'young', 'young', 'young', 'young', 'young', 'young',\n",
              "       'young', 'young', 'young', 'old', 'young', 'young', 'young', 'old',\n",
              "       'young', 'young', 'young', 'young', 'old', 'old', 'young', 'young',\n",
              "       'old', 'young', 'young', 'young', 'young', 'young', 'young',\n",
              "       'young', 'young', 'young', 'young', 'young', 'young', 'young',\n",
              "       'young', 'young', 'young', 'old', 'young', 'young', 'young',\n",
              "       'young', 'young', 'young', 'young', 'young', 'young', 'young',\n",
              "       'young', 'young', 'young', 'young', 'young', 'young', 'young',\n",
              "       'young', 'young', 'young', 'young', 'young', 'young', 'young',\n",
              "       'young', 'young', 'young', 'young', 'young', 'young', 'young',\n",
              "       'old', 'young', 'young', 'young', 'young', 'young', 'young',\n",
              "       'young', 'young', 'young', 'old', 'young', 'young', 'young',\n",
              "       'young', 'young', 'young', 'young', 'young', 'young', 'young',\n",
              "       'young', 'young', 'young', 'young', 'old', 'old', 'young', 'young',\n",
              "       'young', 'young', 'young', 'young', 'young', 'young', 'young',\n",
              "       'young', 'old', 'young', 'young', 'young', 'young', 'old', 'young',\n",
              "       'young', 'young', 'old', 'young', 'young', 'young', 'young',\n",
              "       'young', 'young', 'young', 'young', 'young', 'young', 'young',\n",
              "       'young', 'young', 'young', 'young', 'young', 'young', 'young',\n",
              "       'young', 'young', 'young', 'young', 'young', 'young', 'young',\n",
              "       'young', 'young', 'young', 'young', 'young', 'young', 'young',\n",
              "       'young', 'old', 'old', 'young', 'young', 'young', 'old', 'old',\n",
              "       'young', 'young', 'young', 'young', 'young', 'young', 'young',\n",
              "       'young', 'young', 'young', 'young', 'young', 'young', 'young',\n",
              "       'young', 'old', 'young', 'young', 'young', 'young', 'young',\n",
              "       'young', 'young', 'young', 'young', 'young', 'young', 'old',\n",
              "       'young', 'young', 'young', 'young', 'young', 'young', 'young',\n",
              "       'young', 'young', 'young', 'young', 'young', 'old', 'young',\n",
              "       'young', 'young', 'young', 'young', 'young', 'young', 'young',\n",
              "       'young', 'young', 'young', 'old', 'young', 'young', 'young',\n",
              "       'young', 'young', 'young', 'young', 'young', 'young', 'old', 'old',\n",
              "       'young', 'young', 'young', 'young', 'young', 'young', 'young',\n",
              "       'young', 'young', 'young', 'young', 'young', 'young', 'young',\n",
              "       'young', 'young', 'young', 'young', 'old', 'young', 'young',\n",
              "       'young', 'young', 'young', 'young', 'young', 'young', 'young',\n",
              "       'young', 'young', 'young', 'young', 'young', 'young', 'young',\n",
              "       'young', 'young', 'young', 'young', 'young', 'young', 'young',\n",
              "       'young', 'young', 'young', 'young', 'young', 'young', 'young',\n",
              "       'old', 'young', 'young', 'young', 'young', 'young', 'young',\n",
              "       'young', 'young', 'young', 'young', 'young', 'young', 'young',\n",
              "       'young', 'young', 'young', 'young', 'young', 'young', 'old',\n",
              "       'young', 'young', 'young', 'young', 'young', 'young', 'old',\n",
              "       'young', 'old', 'young', 'young', 'young', 'young', 'young',\n",
              "       'young', 'young', 'young', 'young', 'young', 'young', 'young',\n",
              "       'young', 'young', 'young', 'young', 'young', 'young', 'young',\n",
              "       'young', 'young', 'young', 'young', 'young', 'young', 'young',\n",
              "       'young', 'young', 'young', 'young', 'young', 'young', 'young',\n",
              "       'young', 'young', 'young', 'young', 'young', 'young', 'young',\n",
              "       'young', 'young', 'young', 'young', 'young', 'old', 'young',\n",
              "       'young', 'young', 'young', 'young', 'young', 'young', 'young',\n",
              "       'old', 'young', 'young', 'young', 'young', 'young', 'young',\n",
              "       'young', 'young', 'young', 'young', 'young', 'young', 'young',\n",
              "       'young', 'young', 'young', 'young', 'young', 'young', 'young',\n",
              "       'young', 'old', 'young', 'young', 'young', 'young', 'young', 'old',\n",
              "       'young', 'young', 'young', 'young', 'young', 'young', 'young',\n",
              "       'young', 'young', 'young', 'young', 'young', 'young', 'young',\n",
              "       'young', 'young', 'young', 'young', 'young', 'young', 'young',\n",
              "       'old', 'young', 'young', 'young', 'young', 'young', 'young',\n",
              "       'young', 'young', 'young', 'young', 'young'], dtype='<U5')"
            ]
          },
          "metadata": {},
          "execution_count": 74
        }
      ]
    },
    {
      "cell_type": "code",
      "source": [
        "np.where(df['Age']> 50, 'old',np.where(df['Age'] > 25, 'middle age', 'young'))"
      ],
      "metadata": {
        "colab": {
          "base_uri": "https://localhost:8080/"
        },
        "id": "gOZEH69MXZCY",
        "outputId": "ca1afd4c-f82e-43b1-f407-8c8dd16ad2ca"
      },
      "execution_count": 75,
      "outputs": [
        {
          "output_type": "execute_result",
          "data": {
            "text/plain": [
              "array(['young', 'middle age', 'middle age', 'middle age', 'middle age',\n",
              "       'young', 'old', 'young', 'middle age', 'young', 'young', 'old',\n",
              "       'young', 'middle age', 'young', 'old', 'young', 'young',\n",
              "       'middle age', 'young', 'middle age', 'middle age', 'young',\n",
              "       'middle age', 'young', 'middle age', 'young', 'young', 'young',\n",
              "       'young', 'middle age', 'young', 'young', 'old', 'middle age',\n",
              "       'middle age', 'young', 'young', 'young', 'young', 'middle age',\n",
              "       'middle age', 'young', 'young', 'young', 'young', 'young', 'young',\n",
              "       'young', 'young', 'young', 'young', 'middle age', 'middle age',\n",
              "       'old', 'young', 'young', 'middle age', 'young', 'young', 'young',\n",
              "       'middle age', 'middle age', 'young', 'young', 'young',\n",
              "       'middle age', 'young', 'young', 'middle age', 'middle age',\n",
              "       'young', 'young', 'middle age', 'middle age', 'young', 'young',\n",
              "       'young', 'young', 'middle age', 'young', 'middle age', 'young',\n",
              "       'middle age', 'young', 'middle age', 'young', 'young', 'young',\n",
              "       'young', 'middle age', 'young', 'middle age', 'middle age', 'old',\n",
              "       'young', 'old', 'young', 'middle age', 'middle age', 'middle age',\n",
              "       'young', 'young', 'middle age', 'middle age', 'middle age',\n",
              "       'young', 'young', 'middle age', 'young', 'middle age', 'young',\n",
              "       'young', 'young', 'young', 'young', 'old', 'middle age', 'young',\n",
              "       'young', 'young', 'young', 'middle age', 'middle age', 'old',\n",
              "       'young', 'young', 'young', 'young', 'middle age', 'middle age',\n",
              "       'young', 'middle age', 'middle age', 'young', 'young', 'young',\n",
              "       'middle age', 'young', 'young', 'young', 'young', 'young', 'young',\n",
              "       'young', 'young', 'middle age', 'young', 'middle age',\n",
              "       'middle age', 'old', 'young', 'old', 'middle age', 'young', 'old',\n",
              "       'young', 'middle age', 'young', 'young', 'middle age',\n",
              "       'middle age', 'middle age', 'young', 'young', 'young', 'young',\n",
              "       'middle age', 'young', 'middle age', 'old', 'young', 'young',\n",
              "       'young', 'old', 'young', 'young', 'middle age', 'middle age',\n",
              "       'middle age', 'young', 'young', 'young', 'young', 'young', 'young',\n",
              "       'young', 'middle age', 'middle age', 'middle age', 'middle age',\n",
              "       'young', 'young', 'young', 'middle age', 'old', 'young',\n",
              "       'middle age', 'young', 'young', 'middle age', 'young',\n",
              "       'middle age', 'middle age', 'young', 'young', 'middle age',\n",
              "       'middle age', 'young', 'middle age', 'young', 'middle age',\n",
              "       'young', 'middle age', 'young', 'middle age', 'middle age',\n",
              "       'middle age', 'middle age', 'middle age', 'young', 'middle age',\n",
              "       'old', 'young', 'middle age', 'young', 'young', 'young', 'young',\n",
              "       'young', 'middle age', 'middle age', 'old', 'young', 'young',\n",
              "       'young', 'middle age', 'young', 'young', 'middle age', 'young',\n",
              "       'young', 'middle age', 'young', 'middle age', 'middle age',\n",
              "       'young', 'young', 'middle age', 'old', 'young', 'middle age',\n",
              "       'old', 'middle age', 'middle age', 'middle age', 'young',\n",
              "       'middle age', 'middle age', 'middle age', 'young', 'young', 'old',\n",
              "       'middle age', 'young', 'middle age', 'young', 'young', 'old',\n",
              "       'middle age', 'young', 'young', 'middle age', 'middle age',\n",
              "       'young', 'old', 'middle age', 'young', 'young', 'middle age',\n",
              "       'old', 'middle age', 'young', 'young', 'young', 'middle age',\n",
              "       'middle age', 'young', 'middle age', 'young', 'middle age',\n",
              "       'young', 'middle age', 'young', 'young', 'young', 'young', 'young',\n",
              "       'young', 'middle age', 'young', 'young', 'young', 'young', 'young',\n",
              "       'young', 'young', 'young', 'middle age', 'middle age', 'young',\n",
              "       'young', 'middle age', 'middle age', 'middle age', 'middle age',\n",
              "       'young', 'old', 'middle age', 'middle age', 'young', 'middle age',\n",
              "       'middle age', 'young', 'young', 'middle age', 'old', 'middle age',\n",
              "       'middle age', 'young', 'young', 'middle age', 'middle age',\n",
              "       'young', 'young', 'young', 'middle age', 'middle age',\n",
              "       'middle age', 'middle age', 'young', 'young', 'middle age',\n",
              "       'young', 'middle age', 'young', 'middle age', 'young', 'young',\n",
              "       'middle age', 'young', 'young', 'young', 'young', 'young',\n",
              "       'middle age', 'young', 'middle age', 'young', 'young',\n",
              "       'middle age', 'middle age', 'middle age', 'middle age', 'young',\n",
              "       'middle age', 'old', 'young', 'young', 'young', 'young', 'young',\n",
              "       'young', 'young', 'young', 'young', 'young', 'middle age', 'young',\n",
              "       'young', 'middle age', 'young', 'middle age', 'middle age',\n",
              "       'young', 'young', 'young', 'middle age', 'young', 'young',\n",
              "       'middle age', 'young', 'middle age', 'young', 'young', 'young',\n",
              "       'middle age', 'middle age', 'young', 'middle age', 'middle age',\n",
              "       'middle age', 'young', 'middle age', 'young', 'middle age', 'old',\n",
              "       'young', 'young', 'young', 'young', 'young', 'middle age', 'young',\n",
              "       'middle age', 'young', 'middle age', 'young', 'middle age',\n",
              "       'young', 'young', 'young', 'middle age', 'middle age', 'young',\n",
              "       'young', 'middle age', 'young', 'young', 'middle age',\n",
              "       'middle age', 'young', 'middle age', 'young', 'middle age',\n",
              "       'young', 'young', 'young', 'old', 'middle age', 'middle age',\n",
              "       'young', 'young', 'middle age', 'young', 'young', 'young',\n",
              "       'middle age', 'young', 'old', 'middle age', 'young', 'middle age',\n",
              "       'middle age', 'young', 'middle age', 'old', 'young', 'middle age',\n",
              "       'young', 'middle age', 'middle age', 'middle age', 'middle age',\n",
              "       'young', 'middle age', 'young', 'old', 'young', 'young', 'young',\n",
              "       'middle age', 'middle age', 'young', 'young', 'young',\n",
              "       'middle age', 'middle age', 'young', 'young', 'young', 'young',\n",
              "       'middle age', 'old', 'young', 'young', 'middle age', 'old',\n",
              "       'middle age', 'young', 'young', 'young', 'old', 'old', 'young',\n",
              "       'young', 'old', 'young', 'young', 'young', 'young', 'young',\n",
              "       'young', 'middle age', 'young', 'young', 'middle age', 'young',\n",
              "       'middle age', 'middle age', 'middle age', 'young', 'middle age',\n",
              "       'old', 'young', 'middle age', 'middle age', 'young', 'middle age',\n",
              "       'middle age', 'middle age', 'young', 'young', 'middle age',\n",
              "       'young', 'middle age', 'middle age', 'young', 'middle age',\n",
              "       'young', 'young', 'young', 'young', 'young', 'middle age', 'young',\n",
              "       'middle age', 'middle age', 'young', 'young', 'middle age',\n",
              "       'young', 'young', 'middle age', 'middle age', 'old', 'young',\n",
              "       'young', 'middle age', 'young', 'young', 'middle age', 'young',\n",
              "       'young', 'young', 'old', 'middle age', 'young', 'middle age',\n",
              "       'middle age', 'young', 'middle age', 'middle age', 'young',\n",
              "       'young', 'young', 'young', 'middle age', 'young', 'middle age',\n",
              "       'old', 'old', 'middle age', 'young', 'young', 'young',\n",
              "       'middle age', 'middle age', 'young', 'middle age', 'young',\n",
              "       'middle age', 'old', 'middle age', 'young', 'young', 'middle age',\n",
              "       'old', 'young', 'young', 'middle age', 'old', 'middle age',\n",
              "       'young', 'middle age', 'middle age', 'young', 'middle age',\n",
              "       'young', 'middle age', 'young', 'young', 'young', 'middle age',\n",
              "       'middle age', 'middle age', 'middle age', 'middle age', 'young',\n",
              "       'middle age', 'middle age', 'young', 'young', 'young',\n",
              "       'middle age', 'young', 'middle age', 'middle age', 'young',\n",
              "       'middle age', 'middle age', 'middle age', 'young', 'young',\n",
              "       'young', 'old', 'old', 'young', 'middle age', 'young', 'old',\n",
              "       'old', 'middle age', 'young', 'young', 'middle age', 'middle age',\n",
              "       'middle age', 'middle age', 'young', 'young', 'young', 'young',\n",
              "       'young', 'young', 'middle age', 'young', 'old', 'young', 'young',\n",
              "       'young', 'young', 'young', 'young', 'young', 'young', 'young',\n",
              "       'middle age', 'young', 'old', 'middle age', 'middle age',\n",
              "       'middle age', 'middle age', 'young', 'middle age', 'young',\n",
              "       'young', 'middle age', 'young', 'middle age', 'middle age', 'old',\n",
              "       'middle age', 'young', 'young', 'young', 'young', 'middle age',\n",
              "       'middle age', 'young', 'middle age', 'young', 'young', 'old',\n",
              "       'young', 'young', 'young', 'young', 'young', 'middle age', 'young',\n",
              "       'young', 'young', 'old', 'old', 'middle age', 'young',\n",
              "       'middle age', 'middle age', 'young', 'middle age', 'young',\n",
              "       'young', 'middle age', 'middle age', 'middle age', 'middle age',\n",
              "       'young', 'young', 'young', 'young', 'middle age', 'middle age',\n",
              "       'old', 'young', 'middle age', 'middle age', 'young', 'middle age',\n",
              "       'young', 'young', 'middle age', 'middle age', 'middle age',\n",
              "       'young', 'middle age', 'young', 'young', 'young', 'middle age',\n",
              "       'young', 'young', 'young', 'young', 'middle age', 'middle age',\n",
              "       'middle age', 'young', 'young', 'young', 'middle age', 'young',\n",
              "       'young', 'middle age', 'old', 'young', 'middle age', 'young',\n",
              "       'middle age', 'young', 'young', 'middle age', 'young',\n",
              "       'middle age', 'young', 'middle age', 'young', 'middle age',\n",
              "       'middle age', 'young', 'middle age', 'young', 'middle age',\n",
              "       'young', 'old', 'young', 'middle age', 'young', 'middle age',\n",
              "       'young', 'middle age', 'old', 'young', 'old', 'young', 'young',\n",
              "       'young', 'young', 'middle age', 'young', 'young', 'middle age',\n",
              "       'young', 'young', 'young', 'young', 'young', 'young', 'middle age',\n",
              "       'young', 'young', 'young', 'young', 'young', 'middle age',\n",
              "       'middle age', 'middle age', 'middle age', 'middle age',\n",
              "       'middle age', 'middle age', 'young', 'young', 'middle age',\n",
              "       'middle age', 'middle age', 'young', 'middle age', 'middle age',\n",
              "       'middle age', 'middle age', 'middle age', 'young', 'middle age',\n",
              "       'young', 'young', 'middle age', 'middle age', 'young', 'old',\n",
              "       'middle age', 'middle age', 'middle age', 'young', 'young',\n",
              "       'young', 'young', 'young', 'old', 'young', 'young', 'young',\n",
              "       'young', 'young', 'middle age', 'young', 'young', 'middle age',\n",
              "       'young', 'young', 'young', 'middle age', 'middle age', 'young',\n",
              "       'middle age', 'young', 'middle age', 'middle age', 'young',\n",
              "       'young', 'old', 'young', 'young', 'middle age', 'young',\n",
              "       'middle age', 'old', 'young', 'young', 'middle age', 'young',\n",
              "       'middle age', 'young', 'young', 'middle age', 'middle age',\n",
              "       'middle age', 'young', 'young', 'middle age', 'middle age',\n",
              "       'middle age', 'middle age', 'middle age', 'young', 'young',\n",
              "       'young', 'young', 'old', 'young', 'middle age', 'young',\n",
              "       'middle age', 'young', 'middle age', 'middle age', 'young',\n",
              "       'young', 'middle age', 'middle age'], dtype='<U10')"
            ]
          },
          "metadata": {},
          "execution_count": 75
        }
      ]
    },
    {
      "cell_type": "code",
      "source": [
        "df['Age group'] = np.where(df['Age']> 50, 'old',np.where(df['Age'] > 25, 'middle age', 'young'))"
      ],
      "metadata": {
        "id": "zkoRbm9HX0lu"
      },
      "execution_count": 77,
      "outputs": []
    },
    {
      "cell_type": "code",
      "source": [
        "df.head()"
      ],
      "metadata": {
        "colab": {
          "base_uri": "https://localhost:8080/",
          "height": 293
        },
        "id": "CZWXo2ubYYjy",
        "outputId": "f0135a70-195d-43e8-b51a-7b8ba874eaf4"
      },
      "execution_count": 79,
      "outputs": [
        {
          "output_type": "execute_result",
          "data": {
            "text/plain": [
              "   PassengerId  Survived  Pclass  \\\n",
              "0            1         0       3   \n",
              "1            2         1       1   \n",
              "2            3         1       3   \n",
              "3            4         1       1   \n",
              "4            5         0       3   \n",
              "\n",
              "                                                Name     Sex   Age  SibSp  \\\n",
              "0                            Braund, Mr. Owen Harris    male  22.0      1   \n",
              "1  Cumings, Mrs. John Bradley (Florence Briggs Th...  female  38.0      1   \n",
              "2                             Heikkinen, Miss. Laina  female  26.0      0   \n",
              "3       Futrelle, Mrs. Jacques Heath (Lily May Peel)  female  35.0      1   \n",
              "4                           Allen, Mr. William Henry    male  35.0      0   \n",
              "\n",
              "   Parch            Ticket     Fare Cabin Embarked   Age group  \n",
              "0      0         A/5 21171   7.2500   NaN        S       young  \n",
              "1      0          PC 17599  71.2833   C85        C  middle age  \n",
              "2      0  STON/O2. 3101282   7.9250   NaN        S  middle age  \n",
              "3      0            113803  53.1000  C123        S  middle age  \n",
              "4      0            373450   8.0500   NaN        S  middle age  "
            ],
            "text/html": [
              "\n",
              "  <div id=\"df-9b31bf8a-6c22-4ae4-a712-cc2edee8cbd5\" class=\"colab-df-container\">\n",
              "    <div>\n",
              "<style scoped>\n",
              "    .dataframe tbody tr th:only-of-type {\n",
              "        vertical-align: middle;\n",
              "    }\n",
              "\n",
              "    .dataframe tbody tr th {\n",
              "        vertical-align: top;\n",
              "    }\n",
              "\n",
              "    .dataframe thead th {\n",
              "        text-align: right;\n",
              "    }\n",
              "</style>\n",
              "<table border=\"1\" class=\"dataframe\">\n",
              "  <thead>\n",
              "    <tr style=\"text-align: right;\">\n",
              "      <th></th>\n",
              "      <th>PassengerId</th>\n",
              "      <th>Survived</th>\n",
              "      <th>Pclass</th>\n",
              "      <th>Name</th>\n",
              "      <th>Sex</th>\n",
              "      <th>Age</th>\n",
              "      <th>SibSp</th>\n",
              "      <th>Parch</th>\n",
              "      <th>Ticket</th>\n",
              "      <th>Fare</th>\n",
              "      <th>Cabin</th>\n",
              "      <th>Embarked</th>\n",
              "      <th>Age group</th>\n",
              "    </tr>\n",
              "  </thead>\n",
              "  <tbody>\n",
              "    <tr>\n",
              "      <th>0</th>\n",
              "      <td>1</td>\n",
              "      <td>0</td>\n",
              "      <td>3</td>\n",
              "      <td>Braund, Mr. Owen Harris</td>\n",
              "      <td>male</td>\n",
              "      <td>22.0</td>\n",
              "      <td>1</td>\n",
              "      <td>0</td>\n",
              "      <td>A/5 21171</td>\n",
              "      <td>7.2500</td>\n",
              "      <td>NaN</td>\n",
              "      <td>S</td>\n",
              "      <td>young</td>\n",
              "    </tr>\n",
              "    <tr>\n",
              "      <th>1</th>\n",
              "      <td>2</td>\n",
              "      <td>1</td>\n",
              "      <td>1</td>\n",
              "      <td>Cumings, Mrs. John Bradley (Florence Briggs Th...</td>\n",
              "      <td>female</td>\n",
              "      <td>38.0</td>\n",
              "      <td>1</td>\n",
              "      <td>0</td>\n",
              "      <td>PC 17599</td>\n",
              "      <td>71.2833</td>\n",
              "      <td>C85</td>\n",
              "      <td>C</td>\n",
              "      <td>middle age</td>\n",
              "    </tr>\n",
              "    <tr>\n",
              "      <th>2</th>\n",
              "      <td>3</td>\n",
              "      <td>1</td>\n",
              "      <td>3</td>\n",
              "      <td>Heikkinen, Miss. Laina</td>\n",
              "      <td>female</td>\n",
              "      <td>26.0</td>\n",
              "      <td>0</td>\n",
              "      <td>0</td>\n",
              "      <td>STON/O2. 3101282</td>\n",
              "      <td>7.9250</td>\n",
              "      <td>NaN</td>\n",
              "      <td>S</td>\n",
              "      <td>middle age</td>\n",
              "    </tr>\n",
              "    <tr>\n",
              "      <th>3</th>\n",
              "      <td>4</td>\n",
              "      <td>1</td>\n",
              "      <td>1</td>\n",
              "      <td>Futrelle, Mrs. Jacques Heath (Lily May Peel)</td>\n",
              "      <td>female</td>\n",
              "      <td>35.0</td>\n",
              "      <td>1</td>\n",
              "      <td>0</td>\n",
              "      <td>113803</td>\n",
              "      <td>53.1000</td>\n",
              "      <td>C123</td>\n",
              "      <td>S</td>\n",
              "      <td>middle age</td>\n",
              "    </tr>\n",
              "    <tr>\n",
              "      <th>4</th>\n",
              "      <td>5</td>\n",
              "      <td>0</td>\n",
              "      <td>3</td>\n",
              "      <td>Allen, Mr. William Henry</td>\n",
              "      <td>male</td>\n",
              "      <td>35.0</td>\n",
              "      <td>0</td>\n",
              "      <td>0</td>\n",
              "      <td>373450</td>\n",
              "      <td>8.0500</td>\n",
              "      <td>NaN</td>\n",
              "      <td>S</td>\n",
              "      <td>middle age</td>\n",
              "    </tr>\n",
              "  </tbody>\n",
              "</table>\n",
              "</div>\n",
              "    <div class=\"colab-df-buttons\">\n",
              "\n",
              "  <div class=\"colab-df-container\">\n",
              "    <button class=\"colab-df-convert\" onclick=\"convertToInteractive('df-9b31bf8a-6c22-4ae4-a712-cc2edee8cbd5')\"\n",
              "            title=\"Convert this dataframe to an interactive table.\"\n",
              "            style=\"display:none;\">\n",
              "\n",
              "  <svg xmlns=\"http://www.w3.org/2000/svg\" height=\"24px\" viewBox=\"0 -960 960 960\">\n",
              "    <path d=\"M120-120v-720h720v720H120Zm60-500h600v-160H180v160Zm220 220h160v-160H400v160Zm0 220h160v-160H400v160ZM180-400h160v-160H180v160Zm440 0h160v-160H620v160ZM180-180h160v-160H180v160Zm440 0h160v-160H620v160Z\"/>\n",
              "  </svg>\n",
              "    </button>\n",
              "\n",
              "  <style>\n",
              "    .colab-df-container {\n",
              "      display:flex;\n",
              "      gap: 12px;\n",
              "    }\n",
              "\n",
              "    .colab-df-convert {\n",
              "      background-color: #E8F0FE;\n",
              "      border: none;\n",
              "      border-radius: 50%;\n",
              "      cursor: pointer;\n",
              "      display: none;\n",
              "      fill: #1967D2;\n",
              "      height: 32px;\n",
              "      padding: 0 0 0 0;\n",
              "      width: 32px;\n",
              "    }\n",
              "\n",
              "    .colab-df-convert:hover {\n",
              "      background-color: #E2EBFA;\n",
              "      box-shadow: 0px 1px 2px rgba(60, 64, 67, 0.3), 0px 1px 3px 1px rgba(60, 64, 67, 0.15);\n",
              "      fill: #174EA6;\n",
              "    }\n",
              "\n",
              "    .colab-df-buttons div {\n",
              "      margin-bottom: 4px;\n",
              "    }\n",
              "\n",
              "    [theme=dark] .colab-df-convert {\n",
              "      background-color: #3B4455;\n",
              "      fill: #D2E3FC;\n",
              "    }\n",
              "\n",
              "    [theme=dark] .colab-df-convert:hover {\n",
              "      background-color: #434B5C;\n",
              "      box-shadow: 0px 1px 3px 1px rgba(0, 0, 0, 0.15);\n",
              "      filter: drop-shadow(0px 1px 2px rgba(0, 0, 0, 0.3));\n",
              "      fill: #FFFFFF;\n",
              "    }\n",
              "  </style>\n",
              "\n",
              "    <script>\n",
              "      const buttonEl =\n",
              "        document.querySelector('#df-9b31bf8a-6c22-4ae4-a712-cc2edee8cbd5 button.colab-df-convert');\n",
              "      buttonEl.style.display =\n",
              "        google.colab.kernel.accessAllowed ? 'block' : 'none';\n",
              "\n",
              "      async function convertToInteractive(key) {\n",
              "        const element = document.querySelector('#df-9b31bf8a-6c22-4ae4-a712-cc2edee8cbd5');\n",
              "        const dataTable =\n",
              "          await google.colab.kernel.invokeFunction('convertToInteractive',\n",
              "                                                    [key], {});\n",
              "        if (!dataTable) return;\n",
              "\n",
              "        const docLinkHtml = 'Like what you see? Visit the ' +\n",
              "          '<a target=\"_blank\" href=https://colab.research.google.com/notebooks/data_table.ipynb>data table notebook</a>'\n",
              "          + ' to learn more about interactive tables.';\n",
              "        element.innerHTML = '';\n",
              "        dataTable['output_type'] = 'display_data';\n",
              "        await google.colab.output.renderOutput(dataTable, element);\n",
              "        const docLink = document.createElement('div');\n",
              "        docLink.innerHTML = docLinkHtml;\n",
              "        element.appendChild(docLink);\n",
              "      }\n",
              "    </script>\n",
              "  </div>\n",
              "\n",
              "\n",
              "<div id=\"df-7348ed5f-f047-44d9-9603-abd49e5b31a2\">\n",
              "  <button class=\"colab-df-quickchart\" onclick=\"quickchart('df-7348ed5f-f047-44d9-9603-abd49e5b31a2')\"\n",
              "            title=\"Suggest charts\"\n",
              "            style=\"display:none;\">\n",
              "\n",
              "<svg xmlns=\"http://www.w3.org/2000/svg\" height=\"24px\"viewBox=\"0 0 24 24\"\n",
              "     width=\"24px\">\n",
              "    <g>\n",
              "        <path d=\"M19 3H5c-1.1 0-2 .9-2 2v14c0 1.1.9 2 2 2h14c1.1 0 2-.9 2-2V5c0-1.1-.9-2-2-2zM9 17H7v-7h2v7zm4 0h-2V7h2v10zm4 0h-2v-4h2v4z\"/>\n",
              "    </g>\n",
              "</svg>\n",
              "  </button>\n",
              "\n",
              "<style>\n",
              "  .colab-df-quickchart {\n",
              "      --bg-color: #E8F0FE;\n",
              "      --fill-color: #1967D2;\n",
              "      --hover-bg-color: #E2EBFA;\n",
              "      --hover-fill-color: #174EA6;\n",
              "      --disabled-fill-color: #AAA;\n",
              "      --disabled-bg-color: #DDD;\n",
              "  }\n",
              "\n",
              "  [theme=dark] .colab-df-quickchart {\n",
              "      --bg-color: #3B4455;\n",
              "      --fill-color: #D2E3FC;\n",
              "      --hover-bg-color: #434B5C;\n",
              "      --hover-fill-color: #FFFFFF;\n",
              "      --disabled-bg-color: #3B4455;\n",
              "      --disabled-fill-color: #666;\n",
              "  }\n",
              "\n",
              "  .colab-df-quickchart {\n",
              "    background-color: var(--bg-color);\n",
              "    border: none;\n",
              "    border-radius: 50%;\n",
              "    cursor: pointer;\n",
              "    display: none;\n",
              "    fill: var(--fill-color);\n",
              "    height: 32px;\n",
              "    padding: 0;\n",
              "    width: 32px;\n",
              "  }\n",
              "\n",
              "  .colab-df-quickchart:hover {\n",
              "    background-color: var(--hover-bg-color);\n",
              "    box-shadow: 0 1px 2px rgba(60, 64, 67, 0.3), 0 1px 3px 1px rgba(60, 64, 67, 0.15);\n",
              "    fill: var(--button-hover-fill-color);\n",
              "  }\n",
              "\n",
              "  .colab-df-quickchart-complete:disabled,\n",
              "  .colab-df-quickchart-complete:disabled:hover {\n",
              "    background-color: var(--disabled-bg-color);\n",
              "    fill: var(--disabled-fill-color);\n",
              "    box-shadow: none;\n",
              "  }\n",
              "\n",
              "  .colab-df-spinner {\n",
              "    border: 2px solid var(--fill-color);\n",
              "    border-color: transparent;\n",
              "    border-bottom-color: var(--fill-color);\n",
              "    animation:\n",
              "      spin 1s steps(1) infinite;\n",
              "  }\n",
              "\n",
              "  @keyframes spin {\n",
              "    0% {\n",
              "      border-color: transparent;\n",
              "      border-bottom-color: var(--fill-color);\n",
              "      border-left-color: var(--fill-color);\n",
              "    }\n",
              "    20% {\n",
              "      border-color: transparent;\n",
              "      border-left-color: var(--fill-color);\n",
              "      border-top-color: var(--fill-color);\n",
              "    }\n",
              "    30% {\n",
              "      border-color: transparent;\n",
              "      border-left-color: var(--fill-color);\n",
              "      border-top-color: var(--fill-color);\n",
              "      border-right-color: var(--fill-color);\n",
              "    }\n",
              "    40% {\n",
              "      border-color: transparent;\n",
              "      border-right-color: var(--fill-color);\n",
              "      border-top-color: var(--fill-color);\n",
              "    }\n",
              "    60% {\n",
              "      border-color: transparent;\n",
              "      border-right-color: var(--fill-color);\n",
              "    }\n",
              "    80% {\n",
              "      border-color: transparent;\n",
              "      border-right-color: var(--fill-color);\n",
              "      border-bottom-color: var(--fill-color);\n",
              "    }\n",
              "    90% {\n",
              "      border-color: transparent;\n",
              "      border-bottom-color: var(--fill-color);\n",
              "    }\n",
              "  }\n",
              "</style>\n",
              "\n",
              "  <script>\n",
              "    async function quickchart(key) {\n",
              "      const quickchartButtonEl =\n",
              "        document.querySelector('#' + key + ' button');\n",
              "      quickchartButtonEl.disabled = true;  // To prevent multiple clicks.\n",
              "      quickchartButtonEl.classList.add('colab-df-spinner');\n",
              "      try {\n",
              "        const charts = await google.colab.kernel.invokeFunction(\n",
              "            'suggestCharts', [key], {});\n",
              "      } catch (error) {\n",
              "        console.error('Error during call to suggestCharts:', error);\n",
              "      }\n",
              "      quickchartButtonEl.classList.remove('colab-df-spinner');\n",
              "      quickchartButtonEl.classList.add('colab-df-quickchart-complete');\n",
              "    }\n",
              "    (() => {\n",
              "      let quickchartButtonEl =\n",
              "        document.querySelector('#df-7348ed5f-f047-44d9-9603-abd49e5b31a2 button');\n",
              "      quickchartButtonEl.style.display =\n",
              "        google.colab.kernel.accessAllowed ? 'block' : 'none';\n",
              "    })();\n",
              "  </script>\n",
              "</div>\n",
              "\n",
              "    </div>\n",
              "  </div>\n"
            ]
          },
          "metadata": {},
          "execution_count": 79
        }
      ]
    },
    {
      "cell_type": "code",
      "source": [
        "df.info()"
      ],
      "metadata": {
        "colab": {
          "base_uri": "https://localhost:8080/"
        },
        "id": "Uq1qPPB1YZhK",
        "outputId": "e21f61ca-f0b4-4991-bc1b-6911b95d598b"
      },
      "execution_count": 80,
      "outputs": [
        {
          "output_type": "stream",
          "name": "stdout",
          "text": [
            "<class 'pandas.core.frame.DataFrame'>\n",
            "RangeIndex: 891 entries, 0 to 890\n",
            "Data columns (total 13 columns):\n",
            " #   Column       Non-Null Count  Dtype  \n",
            "---  ------       --------------  -----  \n",
            " 0   PassengerId  891 non-null    int64  \n",
            " 1   Survived     891 non-null    int64  \n",
            " 2   Pclass       891 non-null    int64  \n",
            " 3   Name         891 non-null    object \n",
            " 4   Sex          891 non-null    object \n",
            " 5   Age          714 non-null    float64\n",
            " 6   SibSp        891 non-null    int64  \n",
            " 7   Parch        891 non-null    int64  \n",
            " 8   Ticket       891 non-null    object \n",
            " 9   Fare         891 non-null    float64\n",
            " 10  Cabin        204 non-null    object \n",
            " 11  Embarked     889 non-null    object \n",
            " 12  Age group    891 non-null    object \n",
            "dtypes: float64(2), int64(5), object(6)\n",
            "memory usage: 90.6+ KB\n"
          ]
        }
      ]
    },
    {
      "cell_type": "code",
      "source": [
        "np.mean(number_array)"
      ],
      "metadata": {
        "colab": {
          "base_uri": "https://localhost:8080/"
        },
        "id": "I_pnKkwdYm9y",
        "outputId": "dc9ed68c-b563-41b1-dc89-4ba959a46e3f"
      },
      "execution_count": 82,
      "outputs": [
        {
          "output_type": "execute_result",
          "data": {
            "text/plain": [
              "18.8"
            ]
          },
          "metadata": {},
          "execution_count": 82
        }
      ]
    },
    {
      "cell_type": "code",
      "source": [],
      "metadata": {
        "id": "ej7RUrbGZedH"
      },
      "execution_count": null,
      "outputs": []
    }
  ]
}